{
 "cells": [
  {
   "cell_type": "code",
   "execution_count": 7,
   "id": "52e87e44",
   "metadata": {},
   "outputs": [],
   "source": [
    "import pandas as pd\n",
    "import joblib\n",
    "import numpy as np"
   ]
  },
  {
   "cell_type": "code",
   "execution_count": 8,
   "id": "d7f8d29a",
   "metadata": {},
   "outputs": [
    {
     "name": "stdout",
     "output_type": "stream",
     "text": [
      "Mô hình và threshold đã được load thành công.\n",
      "Ngưỡng dự đoán hiện tại: 0.143\n",
      "\n"
     ]
    }
   ],
   "source": [
    "# Load the trained LightGBM model\n",
    "lgb_model = joblib.load(r\"C:\\Users\\Asus\\Documents\\GitHub\\Credit-Scoring\\output\\models\\lightgbm_baseline_model.pkl\")\n",
    "threshold = joblib.load(r\"C:\\Users\\Asus\\Documents\\GitHub\\Credit-Scoring\\output\\models\\best_threshold.pkl\")\n",
    "\n",
    "\n",
    "print(\"Mô hình và threshold đã được load thành công.\")\n",
    "print(f\"Ngưỡng dự đoán hiện tại: {threshold:.3f}\\n\")"
   ]
  },
  {
   "cell_type": "code",
   "execution_count": 10,
   "id": "001bc4e8",
   "metadata": {},
   "outputs": [
    {
     "name": "stdout",
     "output_type": "stream",
     "text": [
      "[LightGBM] [Warning] min_data_in_leaf is set=50, min_child_samples=20 will be ignored. Current value: min_data_in_leaf=50\n",
      "\n",
      "==============================\n",
      "🔢 Xác suất vỡ nợ: 32.23%\n",
      "Kết luận: KHÁCH HÀNG RỦI RO CAO (CÓ KHẢ NĂNG VỠ NỢ)\n",
      "==============================\n",
      "\n"
     ]
    }
   ],
   "source": [
    "age_years = float(input(\"Tuổi khách hàng (age_years): \"))\n",
    "employment_years = float(input(\"Số năm làm việc (employment_years): \"))\n",
    "credit_income_ratio = float(input(\"Tổng hạn mức vay / thu nhập (credit_income_ratio): \"))\n",
    "total_utilization = float(input(\"Dư nợ / hạn mức (total_utilization): \"))\n",
    "dpd_mean = float(input(\"Trễ hạn trung bình (dpd_mean): \"))\n",
    "cc_avg_utilization = float(input(\"Tỷ lệ sử dụng thẻ tín dụng trung bình (cc_avg_utilization): \"))\n",
    "\n",
    "sample = pd.DataFrame([{\n",
    "    \"age_years\": age_years,\n",
    "    \"employment_years\": employment_years,\n",
    "    \"credit_income_ratio\": credit_income_ratio,\n",
    "    \"total_utilization\": total_utilization,\n",
    "    \"dpd_mean\": dpd_mean,\n",
    "    \"cc_avg_utilization\": cc_avg_utilization\n",
    "}])\n",
    "\n",
    "all_features = lgb_model.feature_name_\n",
    "for col in all_features:\n",
    "    if col not in sample.columns:\n",
    "        sample[col] = 0\n",
    "sample = sample[all_features]\n",
    "\n",
    "prob = lgb_model.predict_proba(sample)[:, 1][0]\n",
    "pred = int(prob >= threshold)\n",
    "\n",
    "print(\"\\n==============================\")\n",
    "print(f\"🔢 Xác suất vỡ nợ: {prob:.2%}\")\n",
    "if pred == 1:\n",
    "    print(\"Kết luận: KHÁCH HÀNG RỦI RO CAO (CÓ KHẢ NĂNG VỠ NỢ)\")\n",
    "else:\n",
    "    print(\"Kết luận: KHÁCH HÀNG AN TOÀN (RỦI RO THẤP)\")\n",
    "print(\"==============================\\n\")"
   ]
  }
 ],
 "metadata": {
  "kernelspec": {
   "display_name": "Python 3 (ipykernel)",
   "language": "python",
   "name": "python3"
  },
  "language_info": {
   "codemirror_mode": {
    "name": "ipython",
    "version": 3
   },
   "file_extension": ".py",
   "mimetype": "text/x-python",
   "name": "python",
   "nbconvert_exporter": "python",
   "pygments_lexer": "ipython3",
   "version": "3.10.18"
  }
 },
 "nbformat": 4,
 "nbformat_minor": 5
}
