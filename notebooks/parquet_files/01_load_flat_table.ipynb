{
 "cells": [
  {
   "cell_type": "code",
   "execution_count": 1,
   "id": "1628562f",
   "metadata": {},
   "outputs": [],
   "source": [
    "import pandas as pd\n",
    "df = pd.read_parquet(r'C:\\Users\\Asus\\Documents\\GitHub\\Credit-Scoring\\data\\data-processing\\flat_table\\flat_credit_model_20251027_143321.parquet')"
   ]
  },
  {
   "cell_type": "code",
   "execution_count": 3,
   "id": "5dbbb707",
   "metadata": {},
   "outputs": [
    {
     "name": "stdout",
     "output_type": "stream",
     "text": [
      "<class 'pandas.core.frame.DataFrame'>\n",
      "RangeIndex: 307511 entries, 0 to 307510\n",
      "Data columns (total 66 columns):\n",
      " #   Column                       Non-Null Count   Dtype  \n",
      "---  ------                       --------------   -----  \n",
      " 0   SK_ID_CURR                   307511 non-null  int32  \n",
      " 1   TARGET                       307511 non-null  bool   \n",
      " 2   age_years                    307511 non-null  int32  \n",
      " 3   employment_years             252137 non-null  float64\n",
      " 4   annuity_income_ratio         307499 non-null  float64\n",
      " 5   credit_income_ratio          307511 non-null  float64\n",
      " 6   goods_income_ratio           307233 non-null  float64\n",
      " 7   income_per_person            307509 non-null  float64\n",
      " 8   has_job_flag                 307511 non-null  int32  \n",
      " 9   raw_income_total             307511 non-null  float64\n",
      " 10  raw_credit_amt               307511 non-null  float64\n",
      " 11  raw_annuity_amt              307499 non-null  float64\n",
      " 12  raw_goods_price              307233 non-null  float64\n",
      " 13  raw_cnt_fam_members          307509 non-null  float64\n",
      " 14  raw_days_employed            252137 non-null  float64\n",
      " 15  app_missing_income_flag      307511 non-null  int32  \n",
      " 16  app_missing_credit_flag      307511 non-null  int32  \n",
      " 17  app_missing_annuity_flag     307511 non-null  int32  \n",
      " 18  app_missing_goods_flag       307511 non-null  int32  \n",
      " 19  total_credit_sum             263491 non-null  float64\n",
      " 20  total_credit_debt            263491 non-null  float64\n",
      " 21  total_utilization            255095 non-null  float64\n",
      " 22  active_loans_count           263491 non-null  float64\n",
      " 23  closed_loans_count           263491 non-null  float64\n",
      " 24  max_overdue_ratio            185199 non-null  float64\n",
      " 25  raw_bureau_records           263491 non-null  float64\n",
      " 26  bur_raw_total_credit_sum     263490 non-null  float64\n",
      " 27  bur_raw_total_credit_debt    256046 non-null  float64\n",
      " 28  raw_total_overdue_amount     263491 non-null  float64\n",
      " 29  raw_overdue_loans_count      263491 non-null  float64\n",
      " 30  raw_has_overdue_flag         263491 non-null  float64\n",
      " 31  cc_avg_utilization           86036 non-null   float64\n",
      " 32  cc_max_utilization           86036 non-null   float64\n",
      " 33  cc_payment_ratio             57445 non-null   float64\n",
      " 34  cc_total_months              86905 non-null   float64\n",
      " 35  cc_active_month_ratio        61309 non-null   float64\n",
      " 36  cc_has_overdue_flag          86905 non-null   float64\n",
      " 37  raw_cc_records               86905 non-null   float64\n",
      " 38  cc_raw_limit_avg             86905 non-null   float64\n",
      " 39  cc_raw_balance_avg           86905 non-null   float64\n",
      " 40  cc_raw_total_payment         61060 non-null   float64\n",
      " 41  cc_raw_total_drawings        86905 non-null   float64\n",
      " 42  cc_raw_overdue_months        86905 non-null   float64\n",
      " 43  cc_raw_max_dpd               86905 non-null   float64\n",
      " 44  cc_raw_invalid_limit_flag    86905 non-null   float64\n",
      " 45  dpd_mean                     291635 non-null  float64\n",
      " 46  dpd_max                      291635 non-null  float64\n",
      " 47  on_time_ratio                291643 non-null  float64\n",
      " 48  num_payments                 291643 non-null  float64\n",
      " 49  dpd_gt30_flag                291643 non-null  float64\n",
      " 50  ins_payment_ratio            291632 non-null  float64\n",
      " 51  ins_payment_variance         290926 non-null  float64\n",
      " 52  ins_early_ratio              291635 non-null  float64\n",
      " 53  raw_instalments_count        291643 non-null  float64\n",
      " 54  raw_payments_count           291643 non-null  float64\n",
      " 55  ins_raw_total_instalment     291643 non-null  float64\n",
      " 56  ins_raw_total_payment        291635 non-null  float64\n",
      " 57  ins_raw_on_time_count        291643 non-null  float64\n",
      " 58  ins_raw_late_count           291643 non-null  float64\n",
      " 59  ins_raw_max_dpd              291635 non-null  float64\n",
      " 60  ins_raw_missing_amount_flag  291643 non-null  float64\n",
      " 61  ins_raw_missing_days_flag    291643 non-null  float64\n",
      " 62  missing_income_flag          307511 non-null  int32  \n",
      " 63  missing_bureau_flag          307511 non-null  int32  \n",
      " 64  missing_cc_flag              307511 non-null  int32  \n",
      " 65  missing_installment_flag     307511 non-null  int32  \n",
      "dtypes: bool(1), float64(54), int32(11)\n",
      "memory usage: 139.9 MB\n"
     ]
    },
    {
     "data": {
      "text/plain": [
       "cc_payment_ratio             0.813194\n",
       "cc_raw_total_payment         0.801438\n",
       "cc_active_month_ratio        0.800628\n",
       "cc_avg_utilization           0.720218\n",
       "cc_max_utilization           0.720218\n",
       "cc_raw_balance_avg           0.717392\n",
       "cc_raw_total_drawings        0.717392\n",
       "cc_raw_invalid_limit_flag    0.717392\n",
       "cc_total_months              0.717392\n",
       "raw_cc_records               0.717392\n",
       "dtype: float64"
      ]
     },
     "execution_count": 3,
     "metadata": {},
     "output_type": "execute_result"
    }
   ],
   "source": [
    "df.info()\n",
    "df.describe()\n",
    "df.isnull().mean().sort_values(ascending=False).head(10)"
   ]
  },
  {
   "cell_type": "code",
   "execution_count": null,
   "id": "a3eda768",
   "metadata": {},
   "outputs": [
    {
     "data": {
      "text/plain": [
       "TARGET\n",
       "False    0.919271\n",
       "True     0.080729\n",
       "Name: proportion, dtype: float64"
      ]
     },
     "execution_count": 4,
     "metadata": {},
     "output_type": "execute_result"
    }
   ],
   "source": [
    "# Kiểm tra dữ liệu có bị mất cân bằng không(Kết quả cho thấy dữ liệu bị mất cân bằng, điều chỉnh trong training)\n",
    "df['TARGET'].value_counts(normalize=True)"
   ]
  },
  {
   "cell_type": "code",
   "execution_count": 5,
   "id": "5ff95df0",
   "metadata": {},
   "outputs": [
    {
     "data": {
      "text/plain": [
       "TARGET                     1.000000\n",
       "cc_avg_utilization         0.135552\n",
       "cc_max_utilization         0.097011\n",
       "total_utilization          0.093954\n",
       "cc_raw_balance_avg         0.087177\n",
       "raw_days_employed          0.074958\n",
       "active_loans_count         0.067128\n",
       "has_job_flag               0.045987\n",
       "raw_overdue_loans_count    0.043366\n",
       "raw_has_overdue_flag       0.035889\n",
       "Name: TARGET, dtype: float64"
      ]
     },
     "execution_count": 5,
     "metadata": {},
     "output_type": "execute_result"
    }
   ],
   "source": [
    "df.corr(numeric_only=True)['TARGET'].sort_values(ascending=False).head(10)"
   ]
  }
 ],
 "metadata": {
  "kernelspec": {
   "display_name": "Python 3 (ipykernel)",
   "language": "python",
   "name": "python3"
  }
 },
 "nbformat": 4,
 "nbformat_minor": 5
}
