{
 "cells": [
  {
   "cell_type": "code",
   "execution_count": 8,
   "id": "d7ce23ac",
   "metadata": {},
   "outputs": [],
   "source": [
    "import pandas as pd\n",
    "from sklearn.model_selection import train_test_split\n",
    "from sklearn.preprocessing import StandardScaler\n",
    "from imblearn.over_sampling import SMOTE\n",
    "import joblib\n",
    "import pandas as pd\n",
    "df = pd.read_parquet(\n",
    "    r'C:\\Users\\Asus\\Documents\\GitHub\\Credit-Scoring\\data\\data-processing\\flat_table\\flat_credit_model_20251027_143321.parquet', engine = \"fastparquet\"\n",
    "    )"
   ]
  },
  {
   "cell_type": "code",
   "execution_count": 7,
   "id": "5abc063e",
   "metadata": {},
   "outputs": [
    {
     "name": "stdout",
     "output_type": "stream",
     "text": [
      "Kích thước dữ liệu: (307511, 66)\n",
      "Tỷ lệ nhãn TARGET:\n",
      "TARGET\n",
      "False    0.919271\n",
      "True     0.080729\n",
      "Name: proportion, dtype: float64\n"
     ]
    }
   ],
   "source": [
    "print(\"Kích thước dữ liệu:\", df.shape)\n",
    "print(\"Tỷ lệ nhãn TARGET:\")\n",
    "print(df[\"TARGET\"].value_counts(normalize=True))"
   ]
  },
  {
   "cell_type": "code",
   "execution_count": null,
   "id": "f47c2a04",
   "metadata": {},
   "outputs": [],
   "source": [
    "# Feature và target\n",
    "X = df.drop(columns=[\"TARGET\", \"SK_ID_CURR\"])\n",
    "y = df[\"TARGET\"].astype(int)"
   ]
  },
  {
   "cell_type": "code",
   "execution_count": null,
   "id": "c1c9fc67",
   "metadata": {},
   "outputs": [],
   "source": [
    "# Fill missing values\n",
    "X = X.fillna(0)"
   ]
  },
  {
   "cell_type": "code",
   "execution_count": 10,
   "id": "c0e98d8f",
   "metadata": {},
   "outputs": [
    {
     "name": "stdout",
     "output_type": "stream",
     "text": [
      "Train size: (246008, 64), Test size: (61503, 64)\n"
     ]
    }
   ],
   "source": [
    "# Chia dữ liệu thành tập huấn luyện và tập kiểm tra với stratify\n",
    "X_train, X_test, y_train, y_test = train_test_split(\n",
    "    X, y, test_size=0.2, random_state=42, stratify=y\n",
    ")\n",
    "print(f\"Train size: {X_train.shape}, Test size: {X_test.shape}\")"
   ]
  },
  {
   "cell_type": "code",
   "execution_count": 12,
   "id": "bed9398b",
   "metadata": {},
   "outputs": [
    {
     "name": "stdout",
     "output_type": "stream",
     "text": [
      "Before SMOTE:\n",
      "TARGET\n",
      "0    0.919271\n",
      "1    0.080729\n",
      "Name: proportion, dtype: float64\n",
      "After SMOTE:\n",
      "TARGET\n",
      "0    0.5\n",
      "1    0.5\n",
      "Name: proportion, dtype: float64\n"
     ]
    }
   ],
   "source": [
    "# Handle imbalance with SMOTE\n",
    "print(\"Before SMOTE:\")\n",
    "print(y_train.value_counts(normalize=True))\n",
    "\n",
    "# Handle missing values again after split\n",
    "X_train = X_train.fillna(0)\n",
    "X_test = X_test.fillna(0)\n",
    "\n",
    "sm = SMOTE(random_state=42)\n",
    "X_train_res, y_train_res = sm.fit_resample(X_train, y_train)\n",
    "\n",
    "print(\"After SMOTE:\")\n",
    "print(y_train_res.value_counts(normalize=True))"
   ]
  },
  {
   "cell_type": "code",
   "execution_count": 13,
   "id": "c8c2657c",
   "metadata": {},
   "outputs": [],
   "source": [
    "# Scale Features\n",
    "scaler = StandardScaler()\n",
    "X_train_scaled = scaler.fit_transform(X_train_res)\n",
    "X_test_scaled = scaler.transform(X_test)"
   ]
  },
  {
   "cell_type": "code",
   "execution_count": 14,
   "id": "d5e2e351",
   "metadata": {},
   "outputs": [
    {
     "data": {
      "text/plain": [
       "['C:\\\\Users\\\\Asus\\\\Documents\\\\GitHub\\\\Credit-Scoring\\\\output\\\\models\\\\train_test_split_balanced_scaler.pkl']"
      ]
     },
     "execution_count": 14,
     "metadata": {},
     "output_type": "execute_result"
    }
   ],
   "source": [
    "# Save processed data\n",
    "joblib.dump((X_train_scaled, X_test_scaled, y_train_res, y_test), r\"C:\\Users\\Asus\\Documents\\GitHub\\Credit-Scoring\\output\\models\\train_test_split_balanced.pkl\")\n",
    "joblib.dump(scaler, r\"C:\\Users\\Asus\\Documents\\GitHub\\Credit-Scoring\\output\\models\\train_test_split_balanced_scaler.pkl\")"
   ]
  }
 ],
 "metadata": {
  "kernelspec": {
   "display_name": "Python 3 (ipykernel)",
   "language": "python",
   "name": "python3"
  },
  "language_info": {
   "codemirror_mode": {
    "name": "ipython",
    "version": 3
   },
   "file_extension": ".py",
   "mimetype": "text/x-python",
   "name": "python",
   "nbconvert_exporter": "python",
   "pygments_lexer": "ipython3",
   "version": "3.10.18"
  }
 },
 "nbformat": 4,
 "nbformat_minor": 5
}
